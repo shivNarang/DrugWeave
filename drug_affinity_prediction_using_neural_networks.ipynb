{
 "cells": [
  {
   "cell_type": "markdown",
   "metadata": {},
   "source": [
    "Importing Necessary Modules"
   ]
  },
  {
   "cell_type": "code",
   "execution_count": 1,
   "metadata": {},
   "outputs": [],
   "source": [
    "import torch\n",
    "import torch.nn as nn\n",
    "import torch.optim as optim\n",
    "from sklearn.model_selection import train_test_split\n",
    "from sklearn.preprocessing import LabelEncoder\n",
    "from sklearn.metrics import mean_squared_error, r2_score, precision_recall_curve, auc\n",
    "from scipy.stats import pearsonr\n",
    "import numpy as np\n",
    "import pandas as pd\n",
    "from lifelines.utils import concordance_index\n"
   ]
  },
  {
   "cell_type": "markdown",
   "metadata": {},
   "source": [
    "Loading Dataset "
   ]
  },
  {
   "cell_type": "code",
   "execution_count": 2,
   "metadata": {},
   "outputs": [],
   "source": [
    "\n",
    "def load_kiba_dataset(file_path):\n",
    "    df = pd.read_csv(file_path, sep=' ', header=None)\n",
    "    df.columns = [\"Drug\", \"Protein\", \"SMILES\", \"Sequence\", \"Affinity\"]\n",
    "    return df\n"
   ]
  },
  {
   "cell_type": "markdown",
   "metadata": {},
   "source": [
    "Encoding sequnence accordingly given in document i gave each amino acid a sequence of 20 numbers and same for Similis"
   ]
  },
  {
   "cell_type": "code",
   "execution_count": 3,
   "metadata": {},
   "outputs": [],
   "source": [
    "def encode_sequences(df):\n",
    "    amino_acids = list(\"ACDEFGHIKLMNPQRSTVWY\")\n",
    "    aa_to_num = {aa: i+1 for i, aa in enumerate(amino_acids)}\n",
    "    \n",
    "    max_seq_len = max(df['Sequence'].apply(len))\n",
    "    df['Encoded_Sequence'] = df['Sequence'].apply(lambda seq: [aa_to_num.get(aa, 0) for aa in seq] + [0] * (max_seq_len - len(seq)))\n",
    "    \n",
    "    max_smiles_len = max(df['SMILES'].apply(len))\n",
    "    char_set = set(\"\".join(df['SMILES']))\n",
    "    char_to_num = {char: i+1 for i, char in enumerate(char_set)}\n",
    "    df['Encoded_SMILES'] = df['SMILES'].apply(lambda smi: [char_to_num.get(char, 0) for char in smi] + [0] * (max_smiles_len - len(smi)))\n",
    "    \n",
    "    return df\n"
   ]
  },
  {
   "cell_type": "markdown",
   "metadata": {},
   "source": [
    "Taking two cases as given in document\n",
    "a) no new protein in testing\n",
    "b) new protein in testing as mentioned in discussion"
   ]
  },
  {
   "cell_type": "code",
   "execution_count": 4,
   "metadata": {},
   "outputs": [],
   "source": [
    "def train_test_split_proteins(df, new_proteins=True):\n",
    "    if new_proteins:\n",
    "        proteins = df['Protein'].unique()\n",
    "        train_proteins, test_proteins = train_test_split(proteins, test_size=42 / len(proteins), random_state=42)\n",
    "        train_data = df[df['Protein'].isin(train_proteins)]\n",
    "        test_data = df[df['Protein'].isin(test_proteins)]\n",
    "    else:\n",
    "        train_data = []\n",
    "        test_data = []\n",
    "        for protein in df['Protein'].unique():\n",
    "            protein_data = df[df['Protein'] == protein]\n",
    "            train_part = protein_data.sample(frac=0.7, random_state=42)\n",
    "            test_part = protein_data.drop(train_part.index)\n",
    "            train_data.append(train_part)\n",
    "            test_data.append(test_part)\n",
    "        train_data = pd.concat(train_data)\n",
    "        test_data = pd.concat(test_data)\n",
    "    \n",
    "    return train_data, test_data"
   ]
  },
  {
   "cell_type": "markdown",
   "metadata": {},
   "source": [
    "Loading dataset into Tensors"
   ]
  },
  {
   "cell_type": "code",
   "execution_count": 5,
   "metadata": {},
   "outputs": [],
   "source": [
    "def prepare_dataloader(df, batch_size=32):\n",
    "    X_smiles = np.array(df['Encoded_SMILES'].tolist())\n",
    "    X_sequence = np.array(df['Encoded_Sequence'].tolist())\n",
    "    y = np.array(df['Affinity'].tolist())\n",
    "\n",
    "    X = np.hstack([X_smiles, X_sequence])\n",
    "    dataset = torch.utils.data.TensorDataset(torch.tensor(X, dtype=torch.float32), torch.tensor(y, dtype=torch.float32))\n",
    "    dataloader = torch.utils.data.DataLoader(dataset, batch_size=batch_size, shuffle=True)\n",
    "    \n",
    "    return dataloader\n"
   ]
  },
  {
   "cell_type": "markdown",
   "metadata": {},
   "source": [
    "Training model using 4 layers of Neural netwrosk"
   ]
  },
  {
   "cell_type": "code",
   "execution_count": 6,
   "metadata": {},
   "outputs": [],
   "source": [
    "class DrugProteinNN(nn.Module):\n",
    "    def __init__(self, input_size):\n",
    "        super(DrugProteinNN, self).__init__()\n",
    "        self.fc1 = nn.Linear(input_size, 512)\n",
    "        self.bn1 = nn.BatchNorm1d(512)\n",
    "        self.fc2 = nn.Linear(512, 256)\n",
    "        self.bn2 = nn.BatchNorm1d(256)\n",
    "        self.fc3 = nn.Linear(256, 128)\n",
    "        self.bn3 = nn.BatchNorm1d(128)\n",
    "        self.fc4 = nn.Linear(128, 1)\n",
    "\n",
    "    def forward(self, x):\n",
    "        x = nn.ReLU()(self.bn1(self.fc1(x)))\n",
    "        x = nn.ReLU()(self.bn2(self.fc2(x)))\n",
    "        x = nn.ReLU()(self.bn3(self.fc3(x)))\n",
    "        x = self.fc4(x)\n",
    "        return x\n",
    "\n",
    "\n",
    "def train_model(model, train_loader, criterion, optimizer, epochs=20):\n",
    "    model.train()\n",
    "    for epoch in range(epochs):\n",
    "        total_loss = 0\n",
    "        for X_batch, y_batch in train_loader:\n",
    "            optimizer.zero_grad()\n",
    "            outputs = model(X_batch)\n",
    "            loss = criterion(outputs.squeeze(), y_batch)\n",
    "            loss.backward()\n",
    "            optimizer.step()\n",
    "            total_loss += loss.item()\n",
    "        print(f\"Epoch {epoch+1}/{epochs}, Loss: {total_loss / len(train_loader):.4f}\")\n"
   ]
  },
  {
   "cell_type": "markdown",
   "metadata": {},
   "source": [
    "Evaluating 5 parameters as mentioned in docs"
   ]
  },
  {
   "cell_type": "code",
   "execution_count": 7,
   "metadata": {},
   "outputs": [],
   "source": [
    "def evaluate_model_with_metrics(model, test_loader):\n",
    "    model.eval()\n",
    "    y_true = []\n",
    "    y_pred = []\n",
    "\n",
    "    with torch.no_grad():\n",
    "        for X_batch, y_batch in test_loader:\n",
    "            outputs = model(X_batch).squeeze()\n",
    "            y_true.extend(y_batch.numpy())\n",
    "            y_pred.extend(outputs.numpy())\n",
    "\n",
    "    y_true = np.array(y_true)\n",
    "    y_pred = np.array(y_pred)\n",
    "\n",
    "    mse = mean_squared_error(y_true, y_pred)\n",
    "    r2 = r2_score(y_true, y_pred)\n",
    "    ci = concordance_index(y_true, y_pred)\n",
    "    pearson_corr, _ = pearsonr(y_true, y_pred)\n",
    "\n",
    "    precision, recall, _ = precision_recall_curve((y_true > 12.1).astype(int), y_pred)\n",
    "    aupr = auc(recall, precision)\n",
    "\n",
    "    print(f\"Mean Squared Error (MSE): {mse:.4f}\")\n",
    "    print(f\"R² Score: {r2:.4f}\")\n",
    "    print(f\"Concordance Index (CI): {ci:.4f}\")\n",
    "    print(f\"Pearson Correlation (R): {pearson_corr:.4f}\")\n",
    "    print(f\"Area Under Precision-Recall Curve (AUPR): {aupr:.4f}\")\n",
    "\n",
    "    return mse, r2, ci, pearson_corr, aupr\n"
   ]
  },
  {
   "cell_type": "markdown",
   "metadata": {},
   "source": [
    "Main function which calls other functions"
   ]
  },
  {
   "cell_type": "code",
   "execution_count": null,
   "metadata": {},
   "outputs": [
    {
     "name": "stdout",
     "output_type": "stream",
     "text": [
      "Processing dataset: davis.txt\n",
      "\n",
      "Case: Seen Proteins\n",
      "Training the model...\n",
      "Epoch 1/20, Loss: 1.8934\n",
      "Epoch 2/20, Loss: 0.6342\n",
      "Epoch 3/20, Loss: 0.5766\n",
      "Epoch 4/20, Loss: 0.5518\n",
      "Epoch 5/20, Loss: 0.5373\n",
      "Epoch 6/20, Loss: 0.5163\n",
      "Epoch 7/20, Loss: 0.4852\n",
      "Epoch 8/20, Loss: 0.4676\n",
      "Epoch 9/20, Loss: 0.4479\n",
      "Epoch 10/20, Loss: 0.4238\n"
     ]
    }
   ],
   "source": [
    "if __name__ == \"__main__\":\n",
    "    datasets = [\"davis.txt\", \"davis-filter.txt\",\"kiba.txt\"]\n",
    "    cases = [\n",
    "        {\"name\": \"Seen Proteins\", \"new_proteins\": False},\n",
    "        {\"name\": \"New Proteins\", \"new_proteins\": True}\n",
    "    ]\n",
    "\n",
    "    for file_path in datasets:\n",
    "        print(f\"Processing dataset: {file_path}\")\n",
    "        df = load_kiba_dataset(file_path)\n",
    "        df = encode_sequences(df)\n",
    "\n",
    "        for case in cases:\n",
    "            print(f\"\\nCase: {case['name']}\")\n",
    "            train_data, test_data = train_test_split_proteins(df, new_proteins=case['new_proteins'])\n",
    "            train_loader = prepare_dataloader(train_data)\n",
    "            test_loader = prepare_dataloader(test_data)\n",
    "\n",
    "            input_size = train_loader.dataset[0][0].shape[0]\n",
    "            model = DrugProteinNN(input_size)\n",
    "\n",
    "            criterion = nn.MSELoss()\n",
    "            optimizer = optim.Adam(model.parameters(), lr=0.001)\n",
    "\n",
    "            print(\"Training the model...\")\n",
    "            train_model(model, train_loader, criterion, optimizer, epochs=20)\n",
    "\n",
    "            print(\"Evaluating the model...\")\n",
    "            evaluate_model_with_metrics(model, test_loader)\n"
   ]
  }
 ],
 "metadata": {
  "kernelspec": {
   "display_name": "Python 3",
   "language": "python",
   "name": "python3"
  },
  "language_info": {
   "codemirror_mode": {
    "name": "ipython",
    "version": 3
   },
   "file_extension": ".py",
   "mimetype": "text/x-python",
   "name": "python",
   "nbconvert_exporter": "python",
   "pygments_lexer": "ipython3",
   "version": "3.12.6"
  }
 },
 "nbformat": 4,
 "nbformat_minor": 2
}
